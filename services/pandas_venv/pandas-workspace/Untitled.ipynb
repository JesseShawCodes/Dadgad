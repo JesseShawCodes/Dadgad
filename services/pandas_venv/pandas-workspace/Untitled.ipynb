{
 "cells": [
  {
   "cell_type": "code",
   "execution_count": 1,
   "id": "aaa0fdbe-f924-4577-afd1-b5b46cdf9d1a",
   "metadata": {},
   "outputs": [
    {
     "name": "stdout",
     "output_type": "stream",
     "text": [
      "Hello World\n"
     ]
    }
   ],
   "source": [
    "print(\"Hello World\")"
   ]
  },
  {
   "cell_type": "code",
   "execution_count": 2,
   "id": "839b7f02-acce-4047-afec-724af85b98de",
   "metadata": {},
   "outputs": [],
   "source": [
    "import pandas as pd"
   ]
  },
  {
   "cell_type": "code",
   "execution_count": 4,
   "id": "6d07e434-b29d-4691-b990-cd484daf9263",
   "metadata": {},
   "outputs": [],
   "source": [
    "df = pd.read_csv(\"MOCK_DATA.csv\")"
   ]
  },
  {
   "cell_type": "code",
   "execution_count": 5,
   "id": "83c78964-62c1-4cbb-bcd4-279d5e552a1a",
   "metadata": {},
   "outputs": [
    {
     "data": {
      "text/html": [
       "<div>\n",
       "<style scoped>\n",
       "    .dataframe tbody tr th:only-of-type {\n",
       "        vertical-align: middle;\n",
       "    }\n",
       "\n",
       "    .dataframe tbody tr th {\n",
       "        vertical-align: top;\n",
       "    }\n",
       "\n",
       "    .dataframe thead th {\n",
       "        text-align: right;\n",
       "    }\n",
       "</style>\n",
       "<table border=\"1\" class=\"dataframe\">\n",
       "  <thead>\n",
       "    <tr style=\"text-align: right;\">\n",
       "      <th></th>\n",
       "      <th>order_id</th>\n",
       "      <th>customer_id</th>\n",
       "      <th>product_id</th>\n",
       "      <th>quantity</th>\n",
       "      <th>unit_price</th>\n",
       "      <th>order_date</th>\n",
       "      <th>shipping_address</th>\n",
       "      <th>payment_method</th>\n",
       "      <th>order_status</th>\n",
       "      <th>shipping_method</th>\n",
       "    </tr>\n",
       "  </thead>\n",
       "  <tbody>\n",
       "    <tr>\n",
       "      <th>0</th>\n",
       "      <td>1</td>\n",
       "      <td>1</td>\n",
       "      <td>1</td>\n",
       "      <td>94</td>\n",
       "      <td>331.40</td>\n",
       "      <td>8/20/2021</td>\n",
       "      <td>47722 Dwight Point</td>\n",
       "      <td>Cash</td>\n",
       "      <td>Pending</td>\n",
       "      <td>Express</td>\n",
       "    </tr>\n",
       "    <tr>\n",
       "      <th>1</th>\n",
       "      <td>2</td>\n",
       "      <td>2</td>\n",
       "      <td>2</td>\n",
       "      <td>38</td>\n",
       "      <td>92.85</td>\n",
       "      <td>9/5/2021</td>\n",
       "      <td>265 Eggendart Street</td>\n",
       "      <td>Credit Card</td>\n",
       "      <td>Pending</td>\n",
       "      <td>Next Day</td>\n",
       "    </tr>\n",
       "    <tr>\n",
       "      <th>2</th>\n",
       "      <td>3</td>\n",
       "      <td>3</td>\n",
       "      <td>3</td>\n",
       "      <td>87</td>\n",
       "      <td>445.24</td>\n",
       "      <td>9/1/2021</td>\n",
       "      <td>9 Leroy Drive</td>\n",
       "      <td>PayPal</td>\n",
       "      <td>Delivered</td>\n",
       "      <td>Express</td>\n",
       "    </tr>\n",
       "    <tr>\n",
       "      <th>3</th>\n",
       "      <td>4</td>\n",
       "      <td>4</td>\n",
       "      <td>4</td>\n",
       "      <td>6</td>\n",
       "      <td>335.01</td>\n",
       "      <td>10/1/2021</td>\n",
       "      <td>86 Arapahoe Avenue</td>\n",
       "      <td>Cash</td>\n",
       "      <td>Pending</td>\n",
       "      <td>Standard</td>\n",
       "    </tr>\n",
       "    <tr>\n",
       "      <th>4</th>\n",
       "      <td>5</td>\n",
       "      <td>5</td>\n",
       "      <td>5</td>\n",
       "      <td>90</td>\n",
       "      <td>344.18</td>\n",
       "      <td>6/25/2021</td>\n",
       "      <td>07498 Kensington Terrace</td>\n",
       "      <td>Credit Card</td>\n",
       "      <td>Pending</td>\n",
       "      <td>Express</td>\n",
       "    </tr>\n",
       "  </tbody>\n",
       "</table>\n",
       "</div>"
      ],
      "text/plain": [
       "   order_id  customer_id  product_id  quantity  unit_price order_date  \\\n",
       "0         1            1           1        94      331.40  8/20/2021   \n",
       "1         2            2           2        38       92.85   9/5/2021   \n",
       "2         3            3           3        87      445.24   9/1/2021   \n",
       "3         4            4           4         6      335.01  10/1/2021   \n",
       "4         5            5           5        90      344.18  6/25/2021   \n",
       "\n",
       "           shipping_address payment_method order_status shipping_method  \n",
       "0        47722 Dwight Point           Cash      Pending         Express  \n",
       "1      265 Eggendart Street    Credit Card      Pending        Next Day  \n",
       "2             9 Leroy Drive         PayPal    Delivered         Express  \n",
       "3        86 Arapahoe Avenue           Cash      Pending        Standard  \n",
       "4  07498 Kensington Terrace    Credit Card      Pending         Express  "
      ]
     },
     "execution_count": 5,
     "metadata": {},
     "output_type": "execute_result"
    }
   ],
   "source": [
    "df.head()"
   ]
  },
  {
   "cell_type": "code",
   "execution_count": 6,
   "id": "133e26ba-48cc-4035-b59a-27a9c70b29bf",
   "metadata": {},
   "outputs": [
    {
     "data": {
      "text/html": [
       "<div>\n",
       "<style scoped>\n",
       "    .dataframe tbody tr th:only-of-type {\n",
       "        vertical-align: middle;\n",
       "    }\n",
       "\n",
       "    .dataframe tbody tr th {\n",
       "        vertical-align: top;\n",
       "    }\n",
       "\n",
       "    .dataframe thead th {\n",
       "        text-align: right;\n",
       "    }\n",
       "</style>\n",
       "<table border=\"1\" class=\"dataframe\">\n",
       "  <thead>\n",
       "    <tr style=\"text-align: right;\">\n",
       "      <th></th>\n",
       "      <th>order_id</th>\n",
       "      <th>customer_id</th>\n",
       "      <th>product_id</th>\n",
       "      <th>quantity</th>\n",
       "      <th>unit_price</th>\n",
       "      <th>order_date</th>\n",
       "      <th>shipping_address</th>\n",
       "      <th>payment_method</th>\n",
       "      <th>order_status</th>\n",
       "      <th>shipping_method</th>\n",
       "    </tr>\n",
       "  </thead>\n",
       "  <tbody>\n",
       "    <tr>\n",
       "      <th>995</th>\n",
       "      <td>996</td>\n",
       "      <td>996</td>\n",
       "      <td>996</td>\n",
       "      <td>81</td>\n",
       "      <td>43.56</td>\n",
       "      <td>5/29/2021</td>\n",
       "      <td>46374 Longview Park</td>\n",
       "      <td>Cash</td>\n",
       "      <td>Pending</td>\n",
       "      <td>Standard</td>\n",
       "    </tr>\n",
       "    <tr>\n",
       "      <th>996</th>\n",
       "      <td>997</td>\n",
       "      <td>997</td>\n",
       "      <td>997</td>\n",
       "      <td>90</td>\n",
       "      <td>147.98</td>\n",
       "      <td>8/8/2021</td>\n",
       "      <td>81089 Namekagon Terrace</td>\n",
       "      <td>PayPal</td>\n",
       "      <td>Pending</td>\n",
       "      <td>Standard</td>\n",
       "    </tr>\n",
       "    <tr>\n",
       "      <th>997</th>\n",
       "      <td>998</td>\n",
       "      <td>998</td>\n",
       "      <td>998</td>\n",
       "      <td>38</td>\n",
       "      <td>493.43</td>\n",
       "      <td>6/21/2021</td>\n",
       "      <td>4959 Cambridge Point</td>\n",
       "      <td>Credit Card</td>\n",
       "      <td>Pending</td>\n",
       "      <td>Next Day</td>\n",
       "    </tr>\n",
       "    <tr>\n",
       "      <th>998</th>\n",
       "      <td>999</td>\n",
       "      <td>999</td>\n",
       "      <td>999</td>\n",
       "      <td>27</td>\n",
       "      <td>654.05</td>\n",
       "      <td>12/22/2021</td>\n",
       "      <td>5522 Forest Dale Junction</td>\n",
       "      <td>Credit Card</td>\n",
       "      <td>Shipped</td>\n",
       "      <td>Next Day</td>\n",
       "    </tr>\n",
       "    <tr>\n",
       "      <th>999</th>\n",
       "      <td>1000</td>\n",
       "      <td>1000</td>\n",
       "      <td>1000</td>\n",
       "      <td>21</td>\n",
       "      <td>5.26</td>\n",
       "      <td>5/16/2021</td>\n",
       "      <td>8 Anhalt Point</td>\n",
       "      <td>PayPal</td>\n",
       "      <td>Delivered</td>\n",
       "      <td>Standard</td>\n",
       "    </tr>\n",
       "  </tbody>\n",
       "</table>\n",
       "</div>"
      ],
      "text/plain": [
       "     order_id  customer_id  product_id  quantity  unit_price  order_date  \\\n",
       "995       996          996         996        81       43.56   5/29/2021   \n",
       "996       997          997         997        90      147.98    8/8/2021   \n",
       "997       998          998         998        38      493.43   6/21/2021   \n",
       "998       999          999         999        27      654.05  12/22/2021   \n",
       "999      1000         1000        1000        21        5.26   5/16/2021   \n",
       "\n",
       "              shipping_address payment_method order_status shipping_method  \n",
       "995        46374 Longview Park           Cash      Pending        Standard  \n",
       "996    81089 Namekagon Terrace         PayPal      Pending        Standard  \n",
       "997       4959 Cambridge Point    Credit Card      Pending        Next Day  \n",
       "998  5522 Forest Dale Junction    Credit Card      Shipped        Next Day  \n",
       "999             8 Anhalt Point         PayPal    Delivered        Standard  "
      ]
     },
     "execution_count": 6,
     "metadata": {},
     "output_type": "execute_result"
    }
   ],
   "source": [
    "df.tail()"
   ]
  },
  {
   "cell_type": "code",
   "execution_count": 7,
   "id": "563af3a1-7d69-48cb-93aa-1307d64cbe1e",
   "metadata": {},
   "outputs": [
    {
     "name": "stdout",
     "output_type": "stream",
     "text": [
      "<class 'pandas.core.frame.DataFrame'>\n",
      "RangeIndex: 1000 entries, 0 to 999\n",
      "Data columns (total 10 columns):\n",
      " #   Column            Non-Null Count  Dtype  \n",
      "---  ------            --------------  -----  \n",
      " 0   order_id          1000 non-null   int64  \n",
      " 1   customer_id       1000 non-null   int64  \n",
      " 2   product_id        1000 non-null   int64  \n",
      " 3   quantity          1000 non-null   int64  \n",
      " 4   unit_price        1000 non-null   float64\n",
      " 5   order_date        1000 non-null   object \n",
      " 6   shipping_address  1000 non-null   object \n",
      " 7   payment_method    1000 non-null   object \n",
      " 8   order_status      1000 non-null   object \n",
      " 9   shipping_method   1000 non-null   object \n",
      "dtypes: float64(1), int64(4), object(5)\n",
      "memory usage: 78.2+ KB\n"
     ]
    }
   ],
   "source": [
    "df.info()"
   ]
  },
  {
   "cell_type": "code",
   "execution_count": 8,
   "id": "55a6de91-96f2-4826-97ff-78facc790991",
   "metadata": {},
   "outputs": [
    {
     "data": {
      "text/html": [
       "<div>\n",
       "<style scoped>\n",
       "    .dataframe tbody tr th:only-of-type {\n",
       "        vertical-align: middle;\n",
       "    }\n",
       "\n",
       "    .dataframe tbody tr th {\n",
       "        vertical-align: top;\n",
       "    }\n",
       "\n",
       "    .dataframe thead th {\n",
       "        text-align: right;\n",
       "    }\n",
       "</style>\n",
       "<table border=\"1\" class=\"dataframe\">\n",
       "  <thead>\n",
       "    <tr style=\"text-align: right;\">\n",
       "      <th></th>\n",
       "      <th>order_id</th>\n",
       "      <th>customer_id</th>\n",
       "      <th>product_id</th>\n",
       "      <th>quantity</th>\n",
       "      <th>unit_price</th>\n",
       "    </tr>\n",
       "  </thead>\n",
       "  <tbody>\n",
       "    <tr>\n",
       "      <th>count</th>\n",
       "      <td>1000.000000</td>\n",
       "      <td>1000.000000</td>\n",
       "      <td>1000.000000</td>\n",
       "      <td>1000.000000</td>\n",
       "      <td>1000.000000</td>\n",
       "    </tr>\n",
       "    <tr>\n",
       "      <th>mean</th>\n",
       "      <td>500.500000</td>\n",
       "      <td>500.500000</td>\n",
       "      <td>500.500000</td>\n",
       "      <td>50.401000</td>\n",
       "      <td>493.413270</td>\n",
       "    </tr>\n",
       "    <tr>\n",
       "      <th>std</th>\n",
       "      <td>288.819436</td>\n",
       "      <td>288.819436</td>\n",
       "      <td>288.819436</td>\n",
       "      <td>28.559794</td>\n",
       "      <td>294.008759</td>\n",
       "    </tr>\n",
       "    <tr>\n",
       "      <th>min</th>\n",
       "      <td>1.000000</td>\n",
       "      <td>1.000000</td>\n",
       "      <td>1.000000</td>\n",
       "      <td>1.000000</td>\n",
       "      <td>0.030000</td>\n",
       "    </tr>\n",
       "    <tr>\n",
       "      <th>25%</th>\n",
       "      <td>250.750000</td>\n",
       "      <td>250.750000</td>\n",
       "      <td>250.750000</td>\n",
       "      <td>27.000000</td>\n",
       "      <td>227.432500</td>\n",
       "    </tr>\n",
       "    <tr>\n",
       "      <th>50%</th>\n",
       "      <td>500.500000</td>\n",
       "      <td>500.500000</td>\n",
       "      <td>500.500000</td>\n",
       "      <td>51.000000</td>\n",
       "      <td>502.875000</td>\n",
       "    </tr>\n",
       "    <tr>\n",
       "      <th>75%</th>\n",
       "      <td>750.250000</td>\n",
       "      <td>750.250000</td>\n",
       "      <td>750.250000</td>\n",
       "      <td>76.000000</td>\n",
       "      <td>751.402500</td>\n",
       "    </tr>\n",
       "    <tr>\n",
       "      <th>max</th>\n",
       "      <td>1000.000000</td>\n",
       "      <td>1000.000000</td>\n",
       "      <td>1000.000000</td>\n",
       "      <td>100.000000</td>\n",
       "      <td>999.330000</td>\n",
       "    </tr>\n",
       "  </tbody>\n",
       "</table>\n",
       "</div>"
      ],
      "text/plain": [
       "          order_id  customer_id   product_id     quantity   unit_price\n",
       "count  1000.000000  1000.000000  1000.000000  1000.000000  1000.000000\n",
       "mean    500.500000   500.500000   500.500000    50.401000   493.413270\n",
       "std     288.819436   288.819436   288.819436    28.559794   294.008759\n",
       "min       1.000000     1.000000     1.000000     1.000000     0.030000\n",
       "25%     250.750000   250.750000   250.750000    27.000000   227.432500\n",
       "50%     500.500000   500.500000   500.500000    51.000000   502.875000\n",
       "75%     750.250000   750.250000   750.250000    76.000000   751.402500\n",
       "max    1000.000000  1000.000000  1000.000000   100.000000   999.330000"
      ]
     },
     "execution_count": 8,
     "metadata": {},
     "output_type": "execute_result"
    }
   ],
   "source": [
    "df.describe()"
   ]
  },
  {
   "cell_type": "code",
   "execution_count": 10,
   "id": "121579c2-2729-469c-93fd-b3a678c3d985",
   "metadata": {},
   "outputs": [
    {
     "data": {
      "text/plain": [
       "shipping_method\n",
       "Next Day    356\n",
       "Express     339\n",
       "Standard    305\n",
       "Name: count, dtype: int64"
      ]
     },
     "execution_count": 10,
     "metadata": {},
     "output_type": "execute_result"
    }
   ],
   "source": [
    "df['shipping_method'].value_counts()"
   ]
  },
  {
   "cell_type": "code",
   "execution_count": 11,
   "id": "92706e90-6655-4a93-9539-b875923bfdf3",
   "metadata": {},
   "outputs": [
    {
     "data": {
      "text/plain": [
       "count    1000.000000\n",
       "mean      493.413270\n",
       "std       294.008759\n",
       "min         0.030000\n",
       "25%       227.432500\n",
       "50%       502.875000\n",
       "75%       751.402500\n",
       "max       999.330000\n",
       "Name: unit_price, dtype: float64"
      ]
     },
     "execution_count": 11,
     "metadata": {},
     "output_type": "execute_result"
    }
   ],
   "source": [
    "df[\"unit_price\"].describe()"
   ]
  },
  {
   "cell_type": "code",
   "execution_count": 12,
   "id": "b6b06df0-d7a5-445e-8015-fffe270f5307",
   "metadata": {},
   "outputs": [],
   "source": [
    "import matplotlib"
   ]
  },
  {
   "cell_type": "code",
   "execution_count": 13,
   "id": "80648034-5757-40cb-b293-8ac85304d1d5",
   "metadata": {},
   "outputs": [
    {
     "data": {
      "text/plain": [
       "<Axes: >"
      ]
     },
     "execution_count": 13,
     "metadata": {},
     "output_type": "execute_result"
    },
    {
     "data": {
      "image/png": "[encoded data removed]",
      "text/plain": [
       "<Figure size 640x480 with 1 Axes>"
      ]
     },
     "metadata": {},
     "output_type": "display_data"
    }
   ],
   "source": [
    "df[\"unit_price\"].hist()"
   ]
  },
  {
   "cell_type": "code",
   "execution_count": null,
   "id": "418fa08e-ee1e-4641-a2b7-53083cefc5d1",
   "metadata": {},
   "outputs": [],
   "source": []
  }
 ],
 "metadata": {
  "kernelspec": {
   "display_name": "Python 3 (ipykernel)",
   "language": "python",
   "name": "python3"
  },
  "language_info": {
   "codemirror_mode": {
    "name": "ipython",
    "version": 3
   },
   "file_extension": ".py",
   "mimetype": "text/x-python",
   "name": "python",
   "nbconvert_exporter": "python",
   "pygments_lexer": "ipython3",
   "version": "3.10.12"
  }
 },
 "nbformat": 4,
 "nbformat_minor": 5
}
